{
 "cells": [
  {
   "cell_type": "code",
   "execution_count": 7,
   "metadata": {},
   "outputs": [],
   "source": [
    "number_of_baskets = 1000000 #Modify to generate a smaller or larger test dataset as preferred"
   ]
  },
  {
   "cell_type": "code",
   "execution_count": 2,
   "metadata": {},
   "outputs": [],
   "source": [
    "import csv\n",
    "from decimal import Decimal\n",
    "from pyspark.sql.types import *\n",
    "from pyspark.sql import SparkSession\n",
    "spark = SparkSession \\\n",
    "    .builder \\\n",
    "    .enableHiveSupport() \\\n",
    "    .getOrCreate()\n",
    "################################################################################\n",
    "#Read file distribution_of_number_of_products_in_a_basket.csv that\n",
    "# provides for each number N the tally of baskets that contain N products, that\n",
    "# tally as a fraction of the whole, and the cumulative fraction\n",
    "################################################################################\n",
    "with open(\"distribution_of_number_of_products_in_a_basket.csv\") as f:\n",
    "    reader = csv.reader(f)\n",
    "    distribution_of_number_of_products_in_a_basket = \\\n",
    "    [[int(row[0]), int(row[1]), Decimal(row[2]), Decimal(row[3])] for row in reader]\n",
    "\n",
    "################################################################################\n",
    "#Convert to a dataframe\n",
    "################################################################################\n",
    "schema = StructType([\n",
    "    StructField(\"tally_of_products_per_basket\", IntegerType(), True),\n",
    "    StructField(\"tally_of_baskets_containing_products_tally\", IntegerType(), True),\n",
    "    StructField(\"fraction_of_baskets_containing_products_tally\", DecimalType(20, 19), True),\n",
    "    StructField(\"cumulative_fraction_of_baskets_containing_products_tally\", DecimalType(20,19), True)\n",
    "])\n",
    "products_in_basket_df = spark.createDataFrame(distribution_of_number_of_products_in_a_basket, schema)\n",
    "#Uncomment the following line to view products_in_basket_df\n",
    "#products_in_basket_df.toPandas()"
   ]
  },
  {
   "cell_type": "code",
   "execution_count": 9,
   "metadata": {},
   "outputs": [],
   "source": [
    "from pyspark.sql import Window\n",
    "from pyspark.sql.functions import rand, lag, col\n",
    "################################################################################\n",
    "#Calculate lower & upper cumulative fraction boundary for each basket size\n",
    "################################################################################\n",
    "window = Window.orderBy('tally_of_products_per_basket')\n",
    "basket_size_fraction_boundary_df = products_in_basket_df.select(\n",
    "    'tally_of_products_per_basket',\n",
    "    lag('cumulative_fraction_of_baskets_containing_products_tally', 1, 0).over(window)\n",
    "        .alias('lower_bound'),\n",
    "    col('cumulative_fraction_of_baskets_containing_products_tally').alias('upper_bound')\n",
    ")\n",
    "################################################################################\n",
    "#Choose a basket size for each basket based on basket size distribution\n",
    "################################################################################\n",
    "baskets_df = spark.range(0, number_of_baskets).withColumn('rand', rand())\n",
    "baskets_df = baskets_df.join(\n",
    "    basket_size_fraction_boundary_df,\n",
    "    (\n",
    "        (baskets_df.rand >= basket_size_fraction_boundary_df.lower_bound) & \n",
    "        (baskets_df.rand < basket_size_fraction_boundary_df.upper_bound)\n",
    "    )\n",
    ").select(col('id').alias('basket_id'), 'tally_of_products_per_basket')"
   ]
  }
 ],
 "metadata": {
  "kernelspec": {
   "display_name": "Python 3",
   "language": "python",
   "name": "python3"
  },
  "language_info": {
   "codemirror_mode": {
    "name": "ipython",
    "version": 3
   },
   "file_extension": ".py",
   "mimetype": "text/x-python",
   "name": "python",
   "nbconvert_exporter": "python",
   "pygments_lexer": "ipython3",
   "version": "3.6.5"
  }
 },
 "nbformat": 4,
 "nbformat_minor": 2
}
