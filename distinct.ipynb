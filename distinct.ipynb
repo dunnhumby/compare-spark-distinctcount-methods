{
 "cells": [
  {
   "cell_type": "code",
   "execution_count": 2,
   "metadata": {},
   "outputs": [],
   "source": [
    "number_of_baskets = 10000000 #Modify to generate a smaller or larger test dataset as preferred"
   ]
  },
  {
   "cell_type": "code",
   "execution_count": 15,
   "metadata": {},
   "outputs": [],
   "source": [
    "import csv\n",
    "from decimal import Decimal\n",
    "from pyspark.sql.types import *\n",
    "from pyspark.sql import SparkSession\n",
    "spark = SparkSession \\\n",
    "    .builder \\\n",
    "    .enableHiveSupport() \\\n",
    "    .getOrCreate()\n",
    "################################################################################\n",
    "#Read file distribution_of_number_of_products_in_a_basket.csv that\n",
    "# provides for each number N the tally of baskets that contain N products, that\n",
    "# tally as a fraction of the whole, and the cumulative fraction\n",
    "################################################################################\n",
    "with open(\"distribution_of_number_of_products_in_a_basket.csv\") as f:\n",
    "    reader = csv.reader(f)\n",
    "    distribution_of_number_of_products_in_a_basket = \\\n",
    "    [[int(row[0]), int(row[1]), Decimal(row[2]), Decimal(row[3])] for row in reader]\n",
    "\n",
    "################################################################################\n",
    "#Convert to a dataframe\n",
    "################################################################################\n",
    "schema = StructType([\n",
    "    StructField(\"tally_of_products_per_basket\", IntegerType(), True),\n",
    "    StructField(\"tally_of_baskets_containing_products_tally\", IntegerType(), True),\n",
    "    StructField(\"fraction_of_baskets_containing_products_tally\", DecimalType(20, 19), True),\n",
    "    StructField(\"cumulative_fraction_of_baskets_containing_products_tally\", DecimalType(20,19), True)\n",
    "])\n",
    "products_in_basket_df = spark.createDataFrame(distribution_of_number_of_products_in_a_basket, schema)\n",
    "#Uncomment the following line to view products_in_basket_df\n",
    "#products_in_basket_df.toPandas()"
   ]
  }
 ],
 "metadata": {
  "kernelspec": {
   "display_name": "Python 3",
   "language": "python",
   "name": "python3"
  },
  "language_info": {
   "codemirror_mode": {
    "name": "ipython",
    "version": 3
   },
   "file_extension": ".py",
   "mimetype": "text/x-python",
   "name": "python",
   "nbconvert_exporter": "python",
   "pygments_lexer": "ipython3",
   "version": "3.6.5"
  }
 },
 "nbformat": 4,
 "nbformat_minor": 2
}
