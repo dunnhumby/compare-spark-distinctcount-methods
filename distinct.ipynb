{
 "cells": [
  {
   "cell_type": "code",
   "execution_count": 2,
   "metadata": {},
   "outputs": [],
   "source": [
    "number_of_baskets = 10000 #Modify to generate a smaller or larger test dataset as preferred"
   ]
  },
  {
   "cell_type": "code",
   "execution_count": 3,
   "metadata": {},
   "outputs": [],
   "source": [
    "from pyspark.sql.types import *\n",
    "from pyspark.sql import SparkSession\n",
    "spark = SparkSession \\\n",
    "    .builder \\\n",
    "    .enableHiveSupport() \\\n",
    "    .getOrCreate()"
   ]
  },
  {
   "cell_type": "code",
   "execution_count": 4,
   "metadata": {},
   "outputs": [],
   "source": [
    "import csv\n",
    "from decimal import Decimal\n",
    "################################################################################\n",
    "#Read file distribution_of_number_of_products_in_a_basket.csv that\n",
    "# provides for each number N the tally of baskets that contain N products, that\n",
    "# tally as a fraction of the whole, and the cumulative fraction\n",
    "################################################################################\n",
    "with open(\"distribution_of_number_of_products_in_a_basket.csv\") as f:\n",
    "    reader = csv.reader(f)\n",
    "    distribution_of_number_of_products_in_a_basket = \\\n",
    "    [[int(row[0]), int(row[1]), Decimal(row[2]), Decimal(row[3])] for row in reader]\n",
    "\n",
    "################################################################################\n",
    "#Convert to a dataframe\n",
    "################################################################################\n",
    "schema = StructType([\n",
    "    StructField(\"basket_size\", IntegerType(), True),\n",
    "    StructField(\"products_tally\", IntegerType(), True),\n",
    "    StructField(\"fraction_of_baskets\", DecimalType(20, 19), True),\n",
    "    StructField(\"cumulative_fraction_of_baskets\", DecimalType(20,19), True)\n",
    "])\n",
    "products_in_basket_df = spark.createDataFrame(distribution_of_number_of_products_in_a_basket, schema)\n",
    "#Uncomment the following line to view products_in_basket_df\n",
    "#products_in_basket_df.toPandas()\n",
    "\n",
    "################################################################################\n",
    "#Read file baskets_per_customer.csv that\n",
    "# provides the tally of baskets purchased by that customer, that\n",
    "# tally as a fraction of the whole, and the cumulative fraction\n",
    "################################################################################\n",
    "with open(\"baskets_per_customer.csv\") as f:\n",
    "    reader = csv.reader(f)\n",
    "    baskets_per_customer = \\\n",
    "    [[str(row[0]), int(row[1]), Decimal(row[2]), Decimal(row[3])] for row in reader]\n",
    "################################################################################\n",
    "#Convert to a dataframe\n",
    "################################################################################\n",
    "schema = StructType([\n",
    "    StructField(\"customer\", StringType(), True),\n",
    "    StructField(\"baskets_tally\", IntegerType(), True),\n",
    "    StructField(\"fraction_of_baskets\", DecimalType(20, 19), True),\n",
    "    StructField(\"cumulative_fraction_of_baskets\", DecimalType(20,19), True)\n",
    "])\n",
    "baskets_per_customer_df = spark.createDataFrame(baskets_per_customer, schema)\n",
    "#baskets_per_customer_df.limit(10).toPandas()\n",
    "\n",
    "################################################################################\n",
    "#Read file baskets_per_product.csv that\n",
    "# provides the tally of baskets containing that product, that\n",
    "# tally as a fraction of the whole, and the cumulative fraction\n",
    "################################################################################\n",
    "with open(\"baskets_per_product.csv\") as f:\n",
    "    reader = csv.reader(f)\n",
    "    baskets_per_product = \\\n",
    "    [[str(row[0]), int(row[1]), Decimal(row[2]), Decimal(row[3])] for row in reader]\n",
    "################################################################################\n",
    "#Convert to a dataframe\n",
    "################################################################################\n",
    "schema = StructType([\n",
    "    StructField(\"product\", StringType(), True),\n",
    "    StructField(\"baskets_tally\", IntegerType(), True),\n",
    "    StructField(\"fraction_of_baskets\", DecimalType(20, 19), True),\n",
    "    StructField(\"cumulative_fraction_of_baskets\", DecimalType(20,19), True)\n",
    "])\n",
    "baskets_per_product_df = spark.createDataFrame(baskets_per_product, schema)\n",
    "#baskets_per_product_df.limit(10).toPandas()\n",
    "\n",
    "################################################################################\n",
    "#Read file baskets_per_store.csv that\n",
    "# provides the tally of baskets bought at each store, that\n",
    "# tally as a fraction of the whole, and the cumulative fraction\n",
    "################################################################################\n",
    "with open(\"baskets_per_store.csv\") as f:\n",
    "    reader = csv.reader(f)\n",
    "    baskets_per_store = \\\n",
    "    [[str(row[0]), int(row[1]), Decimal(row[2]), Decimal(row[3])] for row in reader]\n",
    "################################################################################\n",
    "#Convert to a dataframe\n",
    "################################################################################\n",
    "schema = StructType([\n",
    "    StructField(\"store\", StringType(), True),\n",
    "    StructField(\"baskets_tally\", IntegerType(), True),\n",
    "    StructField(\"fraction_of_baskets\", DecimalType(20, 19), True),\n",
    "    StructField(\"cumulative_fraction_of_baskets\", DecimalType(20,19), True)\n",
    "])\n",
    "baskets_per_store_df = spark.createDataFrame(baskets_per_store, schema)\n",
    "#baskets_per_store_df.limit(10).toPandas()"
   ]
  },
  {
   "cell_type": "code",
   "execution_count": 5,
   "metadata": {},
   "outputs": [],
   "source": [
    "from pyspark.sql.functions import rand\n",
    "baskets_df = spark.range(0, number_of_baskets).withColumn('rand', rand())\n",
    "baskets_df.write.format('parquet').mode('overwrite').saveAsTable('raw_baskets')"
   ]
  },
  {
   "cell_type": "code",
   "execution_count": 19,
   "metadata": {},
   "outputs": [],
   "source": [
    "from pyspark.sql import Window\n",
    "from pyspark.sql.functions import lag, col, lit, floor\n",
    "window = Window.orderBy('baskets_tally')\n",
    "baskets_per_store_fraction_boundary_df = baskets_per_store_df.select(\n",
    "    'store',\n",
    "    lag('cumulative_fraction_of_baskets', 1, 0).over(window)\n",
    "        .alias('lower_bound'),\n",
    "    col('cumulative_fraction_of_baskets').alias('upper_bound')\n",
    ")\n",
    "baskets_per_customer_fraction_boundary_df = baskets_per_customer_df.select(\n",
    "    'customer',\n",
    "    lag('cumulative_fraction_of_baskets', 1, 0).over(window)\n",
    "        .alias('lower_bound'),\n",
    "    col('cumulative_fraction_of_baskets').alias('upper_bound')\n",
    ")"
   ]
  },
  {
   "cell_type": "code",
   "execution_count": 9,
   "metadata": {},
   "outputs": [],
   "source": [
    "baskets_df = spark.table('raw_baskets')\n",
    "baskets_df = baskets_df.join(\n",
    "    baskets_per_store_fraction_boundary_df.hint('broadcast'),\n",
    "    (\n",
    "        (baskets_df.rand >= baskets_per_store_fraction_boundary_df.lower_bound) & \n",
    "        (baskets_df.rand < baskets_per_store_fraction_boundary_df.upper_bound)\n",
    "    )\n",
    ")\n",
    "baskets_df.write.format('parquet').mode('overwrite').saveAsTable('baskets_with_stores')"
   ]
  },
  {
   "cell_type": "code",
   "execution_count": 32,
   "metadata": {},
   "outputs": [
    {
     "data": {
      "text/plain": [
       "8961"
      ]
     },
     "execution_count": 32,
     "metadata": {},
     "output_type": "execute_result"
    }
   ],
   "source": [
    "\"\"\"\n",
    "Joining solely using \n",
    " (baskets_df.rand >= baskets_per_store_fraction_boundary_df.lower_bound) & \n",
    " (baskets_df.rand < baskets_per_store_fraction_boundary_df.upper_bound)\n",
    "(i.e. a non-equi-join) would cause the optimiser to choose a nested loop join \n",
    "which is wildly inefficient.\n",
    "By 'bucketizing' the rows on both sides of the join an equi-join can be used and\n",
    " the optimiser can choose a more effective join algorithm, likely a hash join\n",
    "\"\"\"\n",
    "store_join_buckets = 50\n",
    "bucket_size = 1.0 / store_join_buckets\n",
    "\n",
    "baskets_df = spark.table('raw_baskets').withColumn(\n",
    "    'store_join_bucket', floor(col('rand') / lit(bucket_size)))\n",
    "\n",
    "baskets_per_store_fraction_boundary_df = baskets_per_store_fraction_boundary_df.withColumn(\n",
    "    'join_bucket', floor(col('upper_bound') / lit(bucket_size)))\n",
    "\n",
    "baskets_df.join(baskets_per_store_fraction_boundary_df.hint('broadcast'), \n",
    "                (\n",
    "                    (baskets_df.store_join_bucket == baskets_per_store_fraction_boundary_df.join_bucket) &\n",
    "                    (baskets_df.rand >= baskets_per_store_fraction_boundary_df.lower_bound) & \n",
    "                    (baskets_df.rand < baskets_per_store_fraction_boundary_df.upper_bound)\n",
    "                )\n",
    ").select('id', 'rand', 'store').count()"
   ]
  },
  {
   "cell_type": "code",
   "execution_count": null,
   "metadata": {},
   "outputs": [],
   "source": [
    "baskets_df = spark.table('baskets_with_stores')\n",
    "baskets_df = baskets_df.join(\n",
    "    baskets_per_customer_fraction_boundary_df,\n",
    "    (\n",
    "        (baskets_df.rand >= baskets_per_customer_fraction_boundary_df.lower_bound) & \n",
    "        (baskets_df.rand < baskets_per_customer_fraction_boundary_df.upper_bound)\n",
    "    )\n",
    ").select(col('id').alias('basket_id'), 'store', 'customer')\n",
    "baskets_df.count()"
   ]
  },
  {
   "cell_type": "code",
   "execution_count": null,
   "metadata": {},
   "outputs": [],
   "source": [
    "################################################################################\n",
    "#Calculate lower & upper cumulative fraction boundary for each basket size\n",
    "################################################################################\n",
    "window = Window.orderBy('tally_of_products_per_basket')\n",
    "basket_size_fraction_boundary_df = products_in_basket_df.select(\n",
    "    'tally_of_products_per_basket',\n",
    "    lag('cumulative_fraction_of_baskets_containing_products_tally', 1, 0).over(window)\n",
    "        .alias('lower_bound'),\n",
    "    col('cumulative_fraction_of_baskets_containing_products_tally').alias('upper_bound')\n",
    ")\n",
    "################################################################################\n",
    "#Choose a basket size for each basket based on basket size distribution\n",
    "################################################################################\n",
    "baskets_df = baskets_df.join(\n",
    "    basket_size_fraction_boundary_df.hint('broadcast'),\n",
    "    (\n",
    "        (baskets_df.rand >= basket_size_fraction_boundary_df.lower_bound) & \n",
    "        (baskets_df.rand < basket_size_fraction_boundary_df.upper_bound)\n",
    "    )\n",
    ").select(col('id').alias('basket_id'), col('tally_of_products_per_basket').alias('basket_size'))\n",
    "#Uncomment the next line to see how many baskets there are for each basket size. It should be \n",
    "# roughly proportionally equivalent to the original distribution\n",
    "#%time baskets_df.groupBy('basket_size').count().orderBy('basket_size').toPandas()"
   ]
  }
 ],
 "metadata": {
  "kernelspec": {
   "display_name": "Python 3",
   "language": "python",
   "name": "python3"
  },
  "language_info": {
   "codemirror_mode": {
    "name": "ipython",
    "version": 3
   },
   "file_extension": ".py",
   "mimetype": "text/x-python",
   "name": "python",
   "nbconvert_exporter": "python",
   "pygments_lexer": "ipython3",
   "version": "3.6.5"
  }
 },
 "nbformat": 4,
 "nbformat_minor": 2
}
