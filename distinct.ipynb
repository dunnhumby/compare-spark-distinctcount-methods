{
 "cells": [
  {
   "cell_type": "code",
   "execution_count": 1,
   "metadata": {},
   "outputs": [],
   "source": [
    "number_of_baskets = 10000 #Modify to generate a smaller or larger test dataset as preferred"
   ]
  },
  {
   "cell_type": "code",
   "execution_count": 3,
   "metadata": {},
   "outputs": [
    {
     "data": {
      "text/html": [
       "\n",
       "            <div>\n",
       "                <p><b>SparkSession - hive</b></p>\n",
       "                \n",
       "        <div>\n",
       "            <p><b>SparkContext</b></p>\n",
       "\n",
       "            <p><a href=\"http://3b48693931c9:4040\">Spark UI</a></p>\n",
       "\n",
       "            <dl>\n",
       "              <dt>Version</dt>\n",
       "                <dd><code>v2.3.1</code></dd>\n",
       "              <dt>Master</dt>\n",
       "                <dd><code>local[*]</code></dd>\n",
       "              <dt>AppName</dt>\n",
       "                <dd><code>pyspark-shell</code></dd>\n",
       "            </dl>\n",
       "        </div>\n",
       "        \n",
       "            </div>\n",
       "        "
      ],
      "text/plain": [
       "<pyspark.sql.session.SparkSession at 0x7f586baed898>"
      ]
     },
     "execution_count": 3,
     "metadata": {},
     "output_type": "execute_result"
    }
   ],
   "source": [
    "from pyspark.sql.types import *\n",
    "from pyspark.sql import SparkSession\n",
    "spark = SparkSession \\\n",
    "    .builder \\\n",
    "    .enableHiveSupport() \\\n",
    "    .getOrCreate()\n",
    "spark"
   ]
  },
  {
   "cell_type": "markdown",
   "metadata": {},
   "source": [
    "At this point (after spark session has been created) the Spark UI should be available at http://127.0.0.1:4040/"
   ]
  },
  {
   "cell_type": "code",
   "execution_count": 5,
   "metadata": {},
   "outputs": [],
   "source": [
    "import csv\n",
    "from decimal import Decimal\n",
    "################################################################################\n",
    "#Read file distribution_of_number_of_products_in_a_basket.csv that\n",
    "# provides for each number N the tally of baskets that contain N products, that\n",
    "# tally as a fraction of the whole, and the cumulative fraction\n",
    "################################################################################\n",
    "with open(\"distribution_of_number_of_products_in_a_basket.csv\") as f:\n",
    "    reader = csv.reader(f)\n",
    "    distribution_of_number_of_products_in_a_basket = \\\n",
    "    [[int(row[0]), int(row[1]), Decimal(row[2]), Decimal(row[3])] for row in reader]\n",
    "\n",
    "################################################################################\n",
    "#Convert to a dataframe\n",
    "################################################################################\n",
    "schema = StructType([\n",
    "    StructField(\"basket_size\", IntegerType(), True),\n",
    "    StructField(\"products_tally\", IntegerType(), True),\n",
    "    StructField(\"fraction_of_baskets\", DecimalType(20, 19), True),\n",
    "    StructField(\"cumulative_fraction_of_baskets\", DecimalType(20,19), True)\n",
    "])\n",
    "products_in_basket_df = spark.createDataFrame(distribution_of_number_of_products_in_a_basket, schema)\n",
    "#Uncomment the following line to view products_in_basket_df\n",
    "#products_in_basket_df.toPandas()\n",
    "\n",
    "################################################################################\n",
    "#Read file baskets_per_customer.csv that\n",
    "# provides the tally of baskets purchased by that customer, that\n",
    "# tally as a fraction of the whole, and the cumulative fraction\n",
    "################################################################################\n",
    "with open(\"baskets_per_customer.csv\") as f:\n",
    "    reader = csv.reader(f)\n",
    "    baskets_per_customer = \\\n",
    "    [[str(row[0]), int(row[1]), Decimal(row[2]), Decimal(row[3])] for row in reader]\n",
    "################################################################################\n",
    "#Convert to a dataframe\n",
    "################################################################################\n",
    "schema = StructType([\n",
    "    StructField(\"customer\", StringType(), True),\n",
    "    StructField(\"baskets_tally\", IntegerType(), True),\n",
    "    StructField(\"fraction_of_baskets\", DecimalType(20, 19), True),\n",
    "    StructField(\"cumulative_fraction_of_baskets\", DecimalType(20,19), True)\n",
    "])\n",
    "baskets_per_customer_df = spark.createDataFrame(baskets_per_customer, schema)\n",
    "#baskets_per_customer_df.limit(10).toPandas()\n",
    "\n",
    "################################################################################\n",
    "#Read file baskets_per_product.csv that\n",
    "# provides the tally of baskets containing that product, that\n",
    "# tally as a fraction of the whole, and the cumulative fraction\n",
    "################################################################################\n",
    "with open(\"baskets_per_product.csv\") as f:\n",
    "    reader = csv.reader(f)\n",
    "    baskets_per_product = \\\n",
    "    [[str(row[0]), int(row[1]), Decimal(row[2]), Decimal(row[3])] for row in reader]\n",
    "################################################################################\n",
    "#Convert to a dataframe\n",
    "################################################################################\n",
    "schema = StructType([\n",
    "    StructField(\"product\", StringType(), True),\n",
    "    StructField(\"baskets_tally\", IntegerType(), True),\n",
    "    StructField(\"fraction_of_baskets\", DecimalType(20, 19), True),\n",
    "    StructField(\"cumulative_fraction_of_baskets\", DecimalType(20,19), True)\n",
    "])\n",
    "baskets_per_product_df = spark.createDataFrame(baskets_per_product, schema)\n",
    "#baskets_per_product_df.limit(10).toPandas()\n",
    "\n",
    "################################################################################\n",
    "#Read file baskets_per_store.csv that\n",
    "# provides the tally of baskets bought at each store, that\n",
    "# tally as a fraction of the whole, and the cumulative fraction\n",
    "################################################################################\n",
    "with open(\"baskets_per_store.csv\") as f:\n",
    "    reader = csv.reader(f)\n",
    "    baskets_per_store = \\\n",
    "    [[str(row[0]), int(row[1]), Decimal(row[2]), Decimal(row[3])] for row in reader]\n",
    "################################################################################\n",
    "#Convert to a dataframe\n",
    "################################################################################\n",
    "schema = StructType([\n",
    "    StructField(\"store\", StringType(), True),\n",
    "    StructField(\"baskets_tally\", IntegerType(), True),\n",
    "    StructField(\"fraction_of_baskets\", DecimalType(20, 19), True),\n",
    "    StructField(\"cumulative_fraction_of_baskets\", DecimalType(20,19), True)\n",
    "])\n",
    "baskets_per_store_df = spark.createDataFrame(baskets_per_store, schema)\n",
    "#baskets_per_store_df.limit(10).toPandas()"
   ]
  },
  {
   "cell_type": "code",
   "execution_count": 6,
   "metadata": {},
   "outputs": [],
   "source": [
    "from pyspark.sql.functions import rand\n",
    "baskets_df = spark.range(0, number_of_baskets).withColumn('rand', rand())\n",
    "baskets_df.write.format('parquet').mode('overwrite').saveAsTable('raw_baskets')"
   ]
  },
  {
   "cell_type": "code",
   "execution_count": 28,
   "metadata": {},
   "outputs": [],
   "source": [
    "from pyspark.sql import Window\n",
    "from pyspark.sql.functions import lag, col, lit, floor, min, max\n",
    "window = Window.orderBy('baskets_tally')\n",
    "baskets_per_store_fraction_boundary_df = baskets_per_store_df.select(\n",
    "    'store',\n",
    "    lag('cumulative_fraction_of_baskets', 1, 0).over(window)\n",
    "        .alias('lower_bound'),\n",
    "    col('cumulative_fraction_of_baskets').alias('upper_bound')\n",
    ")\n",
    "baskets_per_customer_fraction_boundary_df = baskets_per_customer_df.select(\n",
    "    'customer',\n",
    "    lag('cumulative_fraction_of_baskets', 1, 0).over(window)\n",
    "        .alias('lower_bound'),\n",
    "    col('cumulative_fraction_of_baskets').alias('upper_bound')\n",
    ")"
   ]
  },
  {
   "cell_type": "code",
   "execution_count": 51,
   "metadata": {},
   "outputs": [],
   "source": [
    "baskets_df = spark.table('raw_baskets')\n",
    "baskets_df = baskets_df.join(\n",
    "    baskets_per_store_fraction_boundary_df.hint('broadcast'),\n",
    "    (\n",
    "        (baskets_df.rand >= baskets_per_store_fraction_boundary_df.lower_bound) & \n",
    "        (baskets_df.rand < baskets_per_store_fraction_boundary_df.upper_bound)\n",
    "    )\n",
    ")\n",
    "baskets_df.write.format('parquet').mode('overwrite').saveAsTable('baskets_with_stores')"
   ]
  },
  {
   "cell_type": "code",
   "execution_count": null,
   "metadata": {},
   "outputs": [],
   "source": [
    "\"\"\"\n",
    "Joining solely using \n",
    " (baskets_df.rand >= baskets_per_store_fraction_boundary_df.lower_bound) & \n",
    " (baskets_df.rand < baskets_per_store_fraction_boundary_df.upper_bound)\n",
    "(i.e. a non-equi-join) would cause the optimiser to choose a nested loop join \n",
    "which is wildly inefficient.\n",
    "By 'bucketizing' the rows on both sides of the join an equi-join can be used and\n",
    " the optimiser can choose a more effective join algorithm, likely a hash join\n",
    "\"\"\"\n",
    "store_join_buckets = 5000 #Fairly arbitrary number. Test different values to find the optimum.\n",
    "bucket_size = 1.0 / store_join_buckets\n",
    "\n",
    "baskets_df = spark.table('raw_baskets').withColumn(\n",
    "    'store_join_bucket', floor(col('rand') / lit(bucket_size)))\n",
    "\n",
    "\"\"\"\n",
    "The upper_bound and lower_bound per store may straddle bucket boundaries.\n",
    "To combat that we use a UNION to produce a record for each bucket where\n",
    "  that is the case.\n",
    "\"\"\"\n",
    "baskets_per_store_fraction_boundary_df = \\\n",
    "    baskets_per_store_fraction_boundary_df.withColumn(\n",
    "        'join_bucket', floor(col('upper_bound') / lit(bucket_size))) \\\n",
    "    .union(\n",
    "        baskets_per_store_fraction_boundary_df.withColumn(\n",
    "            'join_bucket', floor(col('lower_bound') / lit(bucket_size)))\n",
    "    ).distinct()\n",
    "\n",
    "baskets_df = baskets_df.join(baskets_per_store_fraction_boundary_df.hint('broadcast'), \n",
    "                (\n",
    "                    (baskets_df.store_join_bucket == baskets_per_store_fraction_boundary_df.join_bucket) &\n",
    "                    (baskets_df.rand >= baskets_per_store_fraction_boundary_df.lower_bound) & \n",
    "                    (baskets_df.rand < baskets_per_store_fraction_boundary_df.upper_bound)\n",
    "                )\n",
    ").select('id', 'rand', 'store')"
   ]
  },
  {
   "cell_type": "code",
   "execution_count": null,
   "metadata": {},
   "outputs": [],
   "source": [
    "baskets_df.count()"
   ]
  },
  {
   "cell_type": "code",
   "execution_count": 30,
   "metadata": {},
   "outputs": [
    {
     "data": {
      "text/html": [
       "<div>\n",
       "<style scoped>\n",
       "    .dataframe tbody tr th:only-of-type {\n",
       "        vertical-align: middle;\n",
       "    }\n",
       "\n",
       "    .dataframe tbody tr th {\n",
       "        vertical-align: top;\n",
       "    }\n",
       "\n",
       "    .dataframe thead th {\n",
       "        text-align: right;\n",
       "    }\n",
       "</style>\n",
       "<table border=\"1\" class=\"dataframe\">\n",
       "  <thead>\n",
       "    <tr style=\"text-align: right;\">\n",
       "      <th></th>\n",
       "      <th>join_bucket</th>\n",
       "      <th>min(lower_bound)</th>\n",
       "      <th>max(upper_bound)</th>\n",
       "    </tr>\n",
       "  </thead>\n",
       "  <tbody>\n",
       "    <tr>\n",
       "      <th>0</th>\n",
       "      <td>0</td>\n",
       "      <td>0E-19</td>\n",
       "      <td>0.4984134837423228600</td>\n",
       "    </tr>\n",
       "    <tr>\n",
       "      <th>1</th>\n",
       "      <td>1</td>\n",
       "      <td>0.4984134837423228600</td>\n",
       "      <td>0.9999999999999997000</td>\n",
       "    </tr>\n",
       "  </tbody>\n",
       "</table>\n",
       "</div>"
      ],
      "text/plain": [
       "   join_bucket       min(lower_bound)       max(upper_bound)\n",
       "0            0                  0E-19  0.4984134837423228600\n",
       "1            1  0.4984134837423228600  0.9999999999999997000"
      ]
     },
     "execution_count": 30,
     "metadata": {},
     "output_type": "execute_result"
    }
   ],
   "source": [
    "baskets_per_store_fraction_boundary_df.groupBy('join_bucket') \\\n",
    "    .agg(min(col('lower_bound')),max(col('upper_bound'))).orderBy('join_bucket').toPandas()"
   ]
  },
  {
   "cell_type": "code",
   "execution_count": null,
   "metadata": {},
   "outputs": [],
   "source": [
    "baskets_df = spark.table('baskets_with_stores')\n",
    "baskets_df = baskets_df.join(\n",
    "    baskets_per_customer_fraction_boundary_df,\n",
    "    (\n",
    "        (baskets_df.rand >= baskets_per_customer_fraction_boundary_df.lower_bound) & \n",
    "        (baskets_df.rand < baskets_per_customer_fraction_boundary_df.upper_bound)\n",
    "    )\n",
    ").select(col('id').alias('basket_id'), 'store', 'customer')\n",
    "baskets_df.count()"
   ]
  },
  {
   "cell_type": "code",
   "execution_count": null,
   "metadata": {},
   "outputs": [],
   "source": [
    "################################################################################\n",
    "#Calculate lower & upper cumulative fraction boundary for each basket size\n",
    "################################################################################\n",
    "window = Window.orderBy('tally_of_products_per_basket')\n",
    "basket_size_fraction_boundary_df = products_in_basket_df.select(\n",
    "    'tally_of_products_per_basket',\n",
    "    lag('cumulative_fraction_of_baskets_containing_products_tally', 1, 0).over(window)\n",
    "        .alias('lower_bound'),\n",
    "    col('cumulative_fraction_of_baskets_containing_products_tally').alias('upper_bound')\n",
    ")\n",
    "################################################################################\n",
    "#Choose a basket size for each basket based on basket size distribution\n",
    "################################################################################\n",
    "baskets_df = baskets_df.join(\n",
    "    basket_size_fraction_boundary_df.hint('broadcast'),\n",
    "    (\n",
    "        (baskets_df.rand >= basket_size_fraction_boundary_df.lower_bound) & \n",
    "        (baskets_df.rand < basket_size_fraction_boundary_df.upper_bound)\n",
    "    )\n",
    ").select(col('id').alias('basket_id'), col('tally_of_products_per_basket').alias('basket_size'))\n",
    "#Uncomment the next line to see how many baskets there are for each basket size. It should be \n",
    "# roughly proportionally equivalent to the original distribution\n",
    "#%time baskets_df.groupBy('basket_size').count().orderBy('basket_size').toPandas()"
   ]
  }
 ],
 "metadata": {
  "kernelspec": {
   "display_name": "Python 3",
   "language": "python",
   "name": "python3"
  },
  "language_info": {
   "codemirror_mode": {
    "name": "ipython",
    "version": 3
   },
   "file_extension": ".py",
   "mimetype": "text/x-python",
   "name": "python",
   "nbconvert_exporter": "python",
   "pygments_lexer": "ipython3",
   "version": "3.6.5"
  }
 },
 "nbformat": 4,
 "nbformat_minor": 2
}
